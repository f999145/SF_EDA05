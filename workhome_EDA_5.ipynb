{
 "cells": [
  {
   "attachments": {},
   "cell_type": "markdown",
   "id": "c8a6af25-08d3-487a-bd90-001772ac9161",
   "metadata": {},
   "source": [
    "## **Анализ результатов A/B-тестирования**\n"
   ]
  },
  {
   "attachments": {},
   "cell_type": "markdown",
   "id": "d7d45571-6545-4904-a86b-9b3b6b8163d3",
   "metadata": {},
   "source": [
    "Компания планирует запустить новую акцию, чтобы продать как можно больше туров. Команда разработала два варианта посадочной страницы официального сайта компании и провела A/B-тестирование. Собранные в результате проведения эксперимента данные вы можете найти здесь.\n",
    "\n",
    "Предстоит решить настоящую бизнес-задачу: проанализировать эффективность обоих вариантов посадочной страницы сразу по двум критериям: конверсии покупки и среднему чеку. На основе проведенного анализа вам будет необходимо сделать выводы и принять решение: какой из вариантов дизайна более предпочтительный.\n",
    "\n",
    "Итак, наша фирма предлагает следующие варианты туров и их соответствующие стоимости:\n",
    "* Таиланд — 100000 рублей;\n",
    "* Турция — 60000 рублей;\n",
    "* Мальдивы — 200000 рублей;\n",
    "* Санкт-Петербург — 10000 рублей;\n",
    "* Камчатка — 150000 рублей."
   ]
  },
  {
   "cell_type": "code",
   "execution_count": 96,
   "id": "a974b482-e192-4014-8520-8a5c0c946da6",
   "metadata": {},
   "outputs": [],
   "source": [
    "import pandas as pd\n",
    "import numpy as np\n",
    "import matplotlib.pyplot as plt\n",
    "import matplotlib.dates as mdates\n",
    "import matplotlib.ticker as ticker\n",
    "import seaborn as sns\n",
    "\n",
    "from scipy.stats import norm\n",
    "from scipy.stats import t\n",
    "from scipy.stats import ttest_ind, shapiro, f_oneway, mannwhitneyu\n",
    "from statsmodels.stats.proportion import proportions_ztest\n",
    "\n",
    "from pprint import pprint\n",
    "from typing import NamedTuple"
   ]
  },
  {
   "attachments": {},
   "cell_type": "markdown",
   "id": "55c84550-4162-4325-acc2-7d3c0aafe6f0",
   "metadata": {},
   "source": [
    "Прочитаем наши данные и посмотрим на столбцы таблицы:"
   ]
  },
  {
   "cell_type": "code",
   "execution_count": 97,
   "id": "b0d18245-b9da-44bd-8aea-d272ea74b63a",
   "metadata": {},
   "outputs": [
    {
     "data": {
      "text/html": [
       "<div>\n",
       "<style scoped>\n",
       "    .dataframe tbody tr th:only-of-type {\n",
       "        vertical-align: middle;\n",
       "    }\n",
       "\n",
       "    .dataframe tbody tr th {\n",
       "        vertical-align: top;\n",
       "    }\n",
       "\n",
       "    .dataframe thead th {\n",
       "        text-align: right;\n",
       "    }\n",
       "</style>\n",
       "<table border=\"1\" class=\"dataframe\">\n",
       "  <thead>\n",
       "    <tr style=\"text-align: right;\">\n",
       "      <th></th>\n",
       "      <th>user_id</th>\n",
       "      <th>date</th>\n",
       "      <th>group</th>\n",
       "      <th>purchase</th>\n",
       "      <th>price</th>\n",
       "    </tr>\n",
       "  </thead>\n",
       "  <tbody>\n",
       "    <tr>\n",
       "      <th>0</th>\n",
       "      <td>851104</td>\n",
       "      <td>2021-01-21</td>\n",
       "      <td>A</td>\n",
       "      <td>0</td>\n",
       "      <td>0</td>\n",
       "    </tr>\n",
       "    <tr>\n",
       "      <th>1</th>\n",
       "      <td>804228</td>\n",
       "      <td>2021-01-12</td>\n",
       "      <td>A</td>\n",
       "      <td>0</td>\n",
       "      <td>0</td>\n",
       "    </tr>\n",
       "    <tr>\n",
       "      <th>2</th>\n",
       "      <td>661590</td>\n",
       "      <td>2021-01-11</td>\n",
       "      <td>B</td>\n",
       "      <td>0</td>\n",
       "      <td>0</td>\n",
       "    </tr>\n",
       "    <tr>\n",
       "      <th>3</th>\n",
       "      <td>853541</td>\n",
       "      <td>2021-01-08</td>\n",
       "      <td>B</td>\n",
       "      <td>0</td>\n",
       "      <td>0</td>\n",
       "    </tr>\n",
       "    <tr>\n",
       "      <th>4</th>\n",
       "      <td>864975</td>\n",
       "      <td>2021-01-21</td>\n",
       "      <td>A</td>\n",
       "      <td>1</td>\n",
       "      <td>150000</td>\n",
       "    </tr>\n",
       "  </tbody>\n",
       "</table>\n",
       "</div>"
      ],
      "text/plain": [
       "   user_id        date group  purchase   price\n",
       "0   851104  2021-01-21     A         0       0\n",
       "1   804228  2021-01-12     A         0       0\n",
       "2   661590  2021-01-11     B         0       0\n",
       "3   853541  2021-01-08     B         0       0\n",
       "4   864975  2021-01-21     A         1  150000"
      ]
     },
     "execution_count": 97,
     "metadata": {},
     "output_type": "execute_result"
    }
   ],
   "source": [
    "data = pd.read_csv('data/ab_data_tourist.zip')\n",
    "data.head()"
   ]
  },
  {
   "attachments": {},
   "cell_type": "markdown",
   "id": "2fc48225-26ac-49c4-b99d-8b2a03dd74a1",
   "metadata": {
    "tags": []
   },
   "source": [
    "## **Задание 7.1.** Информация о Датафрейме"
   ]
  },
  {
   "cell_type": "code",
   "execution_count": 98,
   "id": "23496521-4878-46e2-ab02-1a98be14884a",
   "metadata": {},
   "outputs": [
    {
     "name": "stdout",
     "output_type": "stream",
     "text": [
      "<class 'pandas.core.frame.DataFrame'>\n",
      "RangeIndex: 294478 entries, 0 to 294477\n",
      "Data columns (total 5 columns):\n",
      " #   Column    Non-Null Count   Dtype \n",
      "---  ------    --------------   ----- \n",
      " 0   user_id   294478 non-null  int64 \n",
      " 1   date      294478 non-null  object\n",
      " 2   group     294478 non-null  object\n",
      " 3   purchase  294478 non-null  int64 \n",
      " 4   price     294478 non-null  int64 \n",
      "dtypes: int64(3), object(2)\n",
      "memory usage: 11.2+ MB\n"
     ]
    }
   ],
   "source": [
    "data.info()"
   ]
  },
  {
   "attachments": {},
   "cell_type": "markdown",
   "id": "946d017d-b4fe-4a17-b91d-0ce369d1ab2e",
   "metadata": {
    "tags": []
   },
   "source": [
    "## **Задание 7.2.** Работа с признаком \"date\"\n",
    "\n",
    "Приведем столбец date к типу данных datetime. Убедимся в равной длительности проведения тестирования для каждой из группы. Для этого сгруппируем данные по признаку группы и определим первую и последнюю дату наблюдения для каждой из групп.\n"
   ]
  },
  {
   "cell_type": "code",
   "execution_count": 99,
   "id": "604c619d-6338-45c8-8248-ac098a2366bb",
   "metadata": {},
   "outputs": [
    {
     "data": {
      "text/html": [
       "<div>\n",
       "<style scoped>\n",
       "    .dataframe tbody tr th:only-of-type {\n",
       "        vertical-align: middle;\n",
       "    }\n",
       "\n",
       "    .dataframe tbody tr th {\n",
       "        vertical-align: top;\n",
       "    }\n",
       "\n",
       "    .dataframe thead th {\n",
       "        text-align: right;\n",
       "    }\n",
       "</style>\n",
       "<table border=\"1\" class=\"dataframe\">\n",
       "  <thead>\n",
       "    <tr style=\"text-align: right;\">\n",
       "      <th></th>\n",
       "      <th>group</th>\n",
       "      <th>min</th>\n",
       "      <th>max</th>\n",
       "      <th>delta</th>\n",
       "    </tr>\n",
       "  </thead>\n",
       "  <tbody>\n",
       "    <tr>\n",
       "      <th>0</th>\n",
       "      <td>A</td>\n",
       "      <td>2021-01-02</td>\n",
       "      <td>2021-01-24</td>\n",
       "      <td>22 days</td>\n",
       "    </tr>\n",
       "    <tr>\n",
       "      <th>1</th>\n",
       "      <td>B</td>\n",
       "      <td>2021-01-02</td>\n",
       "      <td>2021-01-24</td>\n",
       "      <td>22 days</td>\n",
       "    </tr>\n",
       "  </tbody>\n",
       "</table>\n",
       "</div>"
      ],
      "text/plain": [
       "  group         min         max   delta\n",
       "0     A  2021-01-02  2021-01-24 22 days\n",
       "1     B  2021-01-02  2021-01-24 22 days"
      ]
     },
     "metadata": {},
     "output_type": "display_data"
    }
   ],
   "source": [
    "data['date'] = pd.to_datetime(data['date'], format='%Y-%M-%d').dt.date\n",
    "date = data.groupby('group')['date'].agg(['min', 'max']).reset_index()\n",
    "date['delta'] = (date['max'] - date['min'])\n",
    "display(date)"
   ]
  },
  {
   "attachments": {},
   "cell_type": "markdown",
   "id": "94268415",
   "metadata": {},
   "source": [
    "##### Вывод:\n",
    "Промежутки проведения тестирования равны"
   ]
  },
  {
   "attachments": {},
   "cell_type": "markdown",
   "id": "e04eb341-52ae-48b3-9dc2-0578ca91641a",
   "metadata": {},
   "source": [
    "## **Задание 7.3.** Количество посещений, покупок и сумма покупок разделенных по группам А и В"
   ]
  },
  {
   "cell_type": "code",
   "execution_count": 100,
   "id": "02bf0148-488e-4f34-95bf-37794b2fa98b",
   "metadata": {},
   "outputs": [
    {
     "data": {
      "text/html": [
       "<div>\n",
       "<style scoped>\n",
       "    .dataframe tbody tr th:only-of-type {\n",
       "        vertical-align: middle;\n",
       "    }\n",
       "\n",
       "    .dataframe tbody tr th {\n",
       "        vertical-align: top;\n",
       "    }\n",
       "\n",
       "    .dataframe thead th {\n",
       "        text-align: right;\n",
       "    }\n",
       "</style>\n",
       "<table border=\"1\" class=\"dataframe\">\n",
       "  <thead>\n",
       "    <tr style=\"text-align: right;\">\n",
       "      <th></th>\n",
       "      <th>group</th>\n",
       "      <th>coutn_visits</th>\n",
       "      <th>coutn_purchases</th>\n",
       "      <th>sum_price</th>\n",
       "    </tr>\n",
       "  </thead>\n",
       "  <tbody>\n",
       "    <tr>\n",
       "      <th>0</th>\n",
       "      <td>A</td>\n",
       "      <td>147202.00</td>\n",
       "      <td>17723.00</td>\n",
       "      <td>1436.26</td>\n",
       "    </tr>\n",
       "    <tr>\n",
       "      <th>1</th>\n",
       "      <td>B</td>\n",
       "      <td>147276.00</td>\n",
       "      <td>17514.00</td>\n",
       "      <td>1554.10</td>\n",
       "    </tr>\n",
       "    <tr>\n",
       "      <th>delta, %</th>\n",
       "      <td></td>\n",
       "      <td>0.05</td>\n",
       "      <td>-1.18</td>\n",
       "      <td>8.20</td>\n",
       "    </tr>\n",
       "  </tbody>\n",
       "</table>\n",
       "</div>"
      ],
      "text/plain": [
       "         group  coutn_visits  coutn_purchases  sum_price\n",
       "0            A     147202.00         17723.00    1436.26\n",
       "1            B     147276.00         17514.00    1554.10\n",
       "delta, %                0.05            -1.18       8.20"
      ]
     },
     "execution_count": 100,
     "metadata": {},
     "output_type": "execute_result"
    }
   ],
   "source": [
    "sum_table1_info = data.groupby(by='group').agg(\n",
    "    coutn_visits=('user_id', 'count'),\n",
    "    coutn_purchases=('purchase', 'sum'),\n",
    "    sum_price=('price', 'sum')\n",
    ").reset_index()\n",
    "\n",
    "sum_table1_info['sum_price'] = round(sum_table1_info['sum_price'] / 1e6, 2)\n",
    "delta_coutn_visits = round((sum_table1_info.iloc[1,1] / sum_table1_info.iloc[0,1] - 1) * 100, 2)\n",
    "delta_coutn_purchases = round((sum_table1_info.iloc[1,2] / sum_table1_info.iloc[0,2] - 1) * 100, 2)\n",
    "delta_sum_price = round((sum_table1_info.iloc[1,3] / sum_table1_info.iloc[0,3] - 1) * 100, 2)\n",
    "sum_table1_info.loc['delta, %'] = [ '',delta_coutn_visits, delta_coutn_purchases, delta_sum_price]\n",
    "sum_table1_info"
   ]
  },
  {
   "attachments": {},
   "cell_type": "markdown",
   "id": "2434db1b-17e6-4977-8e54-1df875c6f221",
   "metadata": {
    "tags": []
   },
   "source": [
    "## **Задание 7.4.** Проверка, есть ли пользователи, которые в процессе A/B-теста попали в обе тестовые группы."
   ]
  },
  {
   "cell_type": "code",
   "execution_count": 101,
   "id": "57a2d711-057d-4f8b-9f56-df0f772d41c8",
   "metadata": {},
   "outputs": [
    {
     "name": "stdout",
     "output_type": "stream",
     "text": [
      "Количество пользователей попавших в обе группы: 1895\n"
     ]
    }
   ],
   "source": [
    "group_a = data[data['group'] == 'A']['user_id']\n",
    "group_b = data[data['group'] == 'B']['user_id']\n",
    "user_intersection = set(group_a).intersection(set(group_b))\n",
    "print(f'Количество пользователей попавших в обе группы: {len(user_intersection)}')"
   ]
  },
  {
   "attachments": {},
   "cell_type": "markdown",
   "id": "118b1904-7d7a-4935-825e-535da45c611b",
   "metadata": {
    "tags": []
   },
   "source": [
    "### **Исключиаем пользователей, оказавшихся в обеих группах**"
   ]
  },
  {
   "cell_type": "code",
   "execution_count": 102,
   "id": "f618b34b-35a3-4bf1-8d6d-38b3401930b7",
   "metadata": {},
   "outputs": [],
   "source": [
    "# updated_data = data[data['user_id'].apply(lambda x: x not in user_intersection)].copy()\n",
    "updated_data = data[~data['user_id'].isin(user_intersection)].copy()"
   ]
  },
  {
   "attachments": {},
   "cell_type": "markdown",
   "id": "2bce6c9a-6580-4250-b280-204d40d20da2",
   "metadata": {},
   "source": [
    "Где user_intersection - множество пересечений пользователей групп А и B."
   ]
  },
  {
   "attachments": {},
   "cell_type": "markdown",
   "id": "2ddf6b2c-7987-41f3-82b1-8992630ae97b",
   "metadata": {
    "tags": []
   },
   "source": [
    "## **Задание 7.5.** Количество посещений, покупок и сумма покупок разделенных по группам А и В, исключая пользователей попавших в обе группы."
   ]
  },
  {
   "cell_type": "code",
   "execution_count": 103,
   "id": "5c0c018e-a250-48e9-b72a-e3c7be586ebd",
   "metadata": {},
   "outputs": [
    {
     "name": "stdout",
     "output_type": "stream",
     "text": [
      "Таблица до удаления пересекающихся пользователей:\n"
     ]
    },
    {
     "data": {
      "text/html": [
       "<div>\n",
       "<style scoped>\n",
       "    .dataframe tbody tr th:only-of-type {\n",
       "        vertical-align: middle;\n",
       "    }\n",
       "\n",
       "    .dataframe tbody tr th {\n",
       "        vertical-align: top;\n",
       "    }\n",
       "\n",
       "    .dataframe thead th {\n",
       "        text-align: right;\n",
       "    }\n",
       "</style>\n",
       "<table border=\"1\" class=\"dataframe\">\n",
       "  <thead>\n",
       "    <tr style=\"text-align: right;\">\n",
       "      <th></th>\n",
       "      <th>group</th>\n",
       "      <th>coutn_visits</th>\n",
       "      <th>coutn_purchases</th>\n",
       "      <th>sum_price</th>\n",
       "    </tr>\n",
       "  </thead>\n",
       "  <tbody>\n",
       "    <tr>\n",
       "      <th>0</th>\n",
       "      <td>A</td>\n",
       "      <td>147202.00</td>\n",
       "      <td>17723.00</td>\n",
       "      <td>1436.26</td>\n",
       "    </tr>\n",
       "    <tr>\n",
       "      <th>1</th>\n",
       "      <td>B</td>\n",
       "      <td>147276.00</td>\n",
       "      <td>17514.00</td>\n",
       "      <td>1554.10</td>\n",
       "    </tr>\n",
       "    <tr>\n",
       "      <th>delta, %</th>\n",
       "      <td></td>\n",
       "      <td>0.05</td>\n",
       "      <td>-1.18</td>\n",
       "      <td>8.20</td>\n",
       "    </tr>\n",
       "  </tbody>\n",
       "</table>\n",
       "</div>"
      ],
      "text/plain": [
       "         group  coutn_visits  coutn_purchases  sum_price\n",
       "0            A     147202.00         17723.00    1436.26\n",
       "1            B     147276.00         17514.00    1554.10\n",
       "delta, %                0.05            -1.18       8.20"
      ]
     },
     "metadata": {},
     "output_type": "display_data"
    },
    {
     "name": "stdout",
     "output_type": "stream",
     "text": [
      "Таблица после очистки:\n"
     ]
    },
    {
     "data": {
      "text/html": [
       "<div>\n",
       "<style scoped>\n",
       "    .dataframe tbody tr th:only-of-type {\n",
       "        vertical-align: middle;\n",
       "    }\n",
       "\n",
       "    .dataframe tbody tr th {\n",
       "        vertical-align: top;\n",
       "    }\n",
       "\n",
       "    .dataframe thead th {\n",
       "        text-align: right;\n",
       "    }\n",
       "</style>\n",
       "<table border=\"1\" class=\"dataframe\">\n",
       "  <thead>\n",
       "    <tr style=\"text-align: right;\">\n",
       "      <th></th>\n",
       "      <th>group</th>\n",
       "      <th>coutn_visits</th>\n",
       "      <th>coutn_purchases</th>\n",
       "      <th>sum_price</th>\n",
       "    </tr>\n",
       "  </thead>\n",
       "  <tbody>\n",
       "    <tr>\n",
       "      <th>0</th>\n",
       "      <td>A</td>\n",
       "      <td>145307.00</td>\n",
       "      <td>17487.00</td>\n",
       "      <td>1417.78</td>\n",
       "    </tr>\n",
       "    <tr>\n",
       "      <th>1</th>\n",
       "      <td>B</td>\n",
       "      <td>145381.00</td>\n",
       "      <td>17290.00</td>\n",
       "      <td>1533.01</td>\n",
       "    </tr>\n",
       "    <tr>\n",
       "      <th>delta, %</th>\n",
       "      <td></td>\n",
       "      <td>0.05</td>\n",
       "      <td>-1.13</td>\n",
       "      <td>8.13</td>\n",
       "    </tr>\n",
       "  </tbody>\n",
       "</table>\n",
       "</div>"
      ],
      "text/plain": [
       "         group  coutn_visits  coutn_purchases  sum_price\n",
       "0            A     145307.00         17487.00    1417.78\n",
       "1            B     145381.00         17290.00    1533.01\n",
       "delta, %                0.05            -1.13       8.13"
      ]
     },
     "metadata": {},
     "output_type": "display_data"
    }
   ],
   "source": [
    "up_sum_table = updated_data.groupby(by='group').agg(\n",
    "    coutn_visits=('user_id', 'count'),\n",
    "    coutn_purchases=('purchase', 'sum'),\n",
    "    sum_price=('price', 'sum')\n",
    ").reset_index()\n",
    "sum_table2_info = up_sum_table.copy()\n",
    "sum_table2_info['sum_price'] = round(sum_table2_info['sum_price'] / 1e6, 2)\n",
    "\n",
    "delta_coutn_visits = round((sum_table2_info.iloc[1,1] / sum_table2_info.iloc[0,1] - 1) * 100, 2)\n",
    "delta_coutn_purchases = round((sum_table2_info.iloc[1,2] / sum_table2_info.iloc[0,2] - 1) * 100, 2)\n",
    "delta_sum_price = round((sum_table2_info.iloc[1,3] / sum_table2_info.iloc[0,3] - 1) * 100, 2)\n",
    "sum_table2_info.loc['delta, %'] = [ '',delta_coutn_visits, delta_coutn_purchases, delta_sum_price]\n",
    "\n",
    "print('Таблица до удаления пересекающихся пользователей:')\n",
    "display(sum_table1_info)\n",
    "print('Таблица после очистки:')\n",
    "display(sum_table2_info)"
   ]
  },
  {
   "attachments": {},
   "cell_type": "markdown",
   "id": "4ea1b65b-475e-4bff-9460-fac0acdb9620",
   "metadata": {},
   "source": [
    "Выводы:\n",
    "    \n",
    "1. После удаления юзеров, которые попали в обе группы, и получили сбалансированные группы пользователей учавствующих в А/В тестировании. Группы практичестки равны по количеству пользователей.\n",
    "\n",
    "2. Количество пользователей достаточно велико. Что бы продолжить тест дальше.\n",
    "\n",
    "3. Сумарное количество покупок В-варианта сократилось на 1%, однако сумма всех покупок В-варианта больше на 8%"
   ]
  },
  {
   "attachments": {},
   "cell_type": "markdown",
   "id": "afb2ee0a-31d1-45a5-be42-a2bf168b9448",
   "metadata": {
    "tags": []
   },
   "source": [
    "## **Задание 7.6.** Конверсия и средний чек в группах."
   ]
  },
  {
   "cell_type": "code",
   "execution_count": 104,
   "id": "bd9c3b3e-5956-41a8-bae0-43693f6de1f2",
   "metadata": {},
   "outputs": [
    {
     "data": {
      "text/html": [
       "<div>\n",
       "<style scoped>\n",
       "    .dataframe tbody tr th:only-of-type {\n",
       "        vertical-align: middle;\n",
       "    }\n",
       "\n",
       "    .dataframe tbody tr th {\n",
       "        vertical-align: top;\n",
       "    }\n",
       "\n",
       "    .dataframe thead th {\n",
       "        text-align: right;\n",
       "    }\n",
       "</style>\n",
       "<table border=\"1\" class=\"dataframe\">\n",
       "  <thead>\n",
       "    <tr style=\"text-align: right;\">\n",
       "      <th></th>\n",
       "      <th>group</th>\n",
       "      <th>coutn_visits</th>\n",
       "      <th>coutn_purchases</th>\n",
       "      <th>sum_price</th>\n",
       "      <th>conversion</th>\n",
       "      <th>mean_check</th>\n",
       "    </tr>\n",
       "  </thead>\n",
       "  <tbody>\n",
       "    <tr>\n",
       "      <th>0</th>\n",
       "      <td>A</td>\n",
       "      <td>145307</td>\n",
       "      <td>17487</td>\n",
       "      <td>1417780000</td>\n",
       "      <td>12.03</td>\n",
       "      <td>81076</td>\n",
       "    </tr>\n",
       "    <tr>\n",
       "      <th>1</th>\n",
       "      <td>B</td>\n",
       "      <td>145381</td>\n",
       "      <td>17290</td>\n",
       "      <td>1533010000</td>\n",
       "      <td>11.89</td>\n",
       "      <td>88665</td>\n",
       "    </tr>\n",
       "  </tbody>\n",
       "</table>\n",
       "</div>"
      ],
      "text/plain": [
       "  group  coutn_visits  coutn_purchases   sum_price  conversion  mean_check\n",
       "0     A        145307            17487  1417780000       12.03       81076\n",
       "1     B        145381            17290  1533010000       11.89       88665"
      ]
     },
     "execution_count": 104,
     "metadata": {},
     "output_type": "execute_result"
    }
   ],
   "source": [
    "up_sum_table['conversion'] = round((up_sum_table['coutn_purchases'] / up_sum_table['coutn_visits']) * 100, 2)\n",
    "up_sum_table['mean_check'] = (round(up_sum_table['sum_price'] / up_sum_table['coutn_purchases'])).astype(int)\n",
    "up_sum_table"
   ]
  },
  {
   "attachments": {},
   "cell_type": "markdown",
   "id": "9e88c883-84f9-44ec-accd-04d5d459b261",
   "metadata": {},
   "source": [
    "#### Вывод:\n",
    "Вариант А Эффективнее по конверсии, в то время как вариант В эфективнее по среднему чеку."
   ]
  },
  {
   "attachments": {},
   "cell_type": "markdown",
   "id": "7f9f1ae0-f12f-49b3-8b57-1c299c208c49",
   "metadata": {
    "tags": []
   },
   "source": [
    "## **Задание 7.7.** Сводная таблица зависимоти продаж от группы и цены тура."
   ]
  },
  {
   "cell_type": "code",
   "execution_count": 105,
   "id": "78d46a02-cc30-4783-9b18-9fc9c6a08012",
   "metadata": {},
   "outputs": [
    {
     "data": {
      "text/html": [
       "<div>\n",
       "<style scoped>\n",
       "    .dataframe tbody tr th:only-of-type {\n",
       "        vertical-align: middle;\n",
       "    }\n",
       "\n",
       "    .dataframe tbody tr th {\n",
       "        vertical-align: top;\n",
       "    }\n",
       "\n",
       "    .dataframe thead th {\n",
       "        text-align: right;\n",
       "    }\n",
       "</style>\n",
       "<table border=\"1\" class=\"dataframe\">\n",
       "  <thead>\n",
       "    <tr style=\"text-align: right;\">\n",
       "      <th></th>\n",
       "      <th>tour</th>\n",
       "      <th>price</th>\n",
       "    </tr>\n",
       "  </thead>\n",
       "  <tbody>\n",
       "    <tr>\n",
       "      <th>0</th>\n",
       "      <td>Таиланд</td>\n",
       "      <td>100000</td>\n",
       "    </tr>\n",
       "    <tr>\n",
       "      <th>1</th>\n",
       "      <td>Турция</td>\n",
       "      <td>60000</td>\n",
       "    </tr>\n",
       "    <tr>\n",
       "      <th>2</th>\n",
       "      <td>Мальдивы</td>\n",
       "      <td>200000</td>\n",
       "    </tr>\n",
       "    <tr>\n",
       "      <th>3</th>\n",
       "      <td>Санкт-Петербург</td>\n",
       "      <td>10000</td>\n",
       "    </tr>\n",
       "    <tr>\n",
       "      <th>4</th>\n",
       "      <td>Камчатка</td>\n",
       "      <td>150000</td>\n",
       "    </tr>\n",
       "  </tbody>\n",
       "</table>\n",
       "</div>"
      ],
      "text/plain": [
       "              tour   price\n",
       "0          Таиланд  100000\n",
       "1           Турция   60000\n",
       "2         Мальдивы  200000\n",
       "3  Санкт-Петербург   10000\n",
       "4         Камчатка  150000"
      ]
     },
     "execution_count": 105,
     "metadata": {},
     "output_type": "execute_result"
    }
   ],
   "source": [
    "df = pd.DataFrame.from_dict({'Таиланд': [100000],\n",
    "'Турция': [60000],\n",
    "'Мальдивы': [200000],\n",
    "'Санкт-Петербург': [10000],\n",
    "'Камчатка': [150000]}, orient='index', columns=['price']).reset_index().rename(columns={'index':'tour'})\n",
    "df"
   ]
  },
  {
   "cell_type": "code",
   "execution_count": 119,
   "id": "0e544938",
   "metadata": {},
   "outputs": [
    {
     "data": {
      "text/html": [
       "<div>\n",
       "<style scoped>\n",
       "    .dataframe tbody tr th:only-of-type {\n",
       "        vertical-align: middle;\n",
       "    }\n",
       "\n",
       "    .dataframe tbody tr th {\n",
       "        vertical-align: top;\n",
       "    }\n",
       "\n",
       "    .dataframe thead th {\n",
       "        text-align: right;\n",
       "    }\n",
       "</style>\n",
       "<table border=\"1\" class=\"dataframe\">\n",
       "  <thead>\n",
       "    <tr style=\"text-align: right;\">\n",
       "      <th></th>\n",
       "      <th>group</th>\n",
       "      <th>A</th>\n",
       "      <th>B</th>\n",
       "    </tr>\n",
       "    <tr>\n",
       "      <th>tour</th>\n",
       "      <th>price</th>\n",
       "      <th></th>\n",
       "      <th></th>\n",
       "    </tr>\n",
       "  </thead>\n",
       "  <tbody>\n",
       "    <tr>\n",
       "      <th>Санкт-Петербург</th>\n",
       "      <th>10000</th>\n",
       "      <td>5182</td>\n",
       "      <td>5201</td>\n",
       "    </tr>\n",
       "    <tr>\n",
       "      <th>Турция</th>\n",
       "      <th>60000</th>\n",
       "      <td>5271</td>\n",
       "      <td>1730</td>\n",
       "    </tr>\n",
       "    <tr>\n",
       "      <th>Таиланд</th>\n",
       "      <th>100000</th>\n",
       "      <td>1832</td>\n",
       "      <td>5227</td>\n",
       "    </tr>\n",
       "    <tr>\n",
       "      <th>Камчатка</th>\n",
       "      <th>150000</th>\n",
       "      <td>3478</td>\n",
       "      <td>3438</td>\n",
       "    </tr>\n",
       "    <tr>\n",
       "      <th>Мальдивы</th>\n",
       "      <th>200000</th>\n",
       "      <td>1724</td>\n",
       "      <td>1694</td>\n",
       "    </tr>\n",
       "  </tbody>\n",
       "</table>\n",
       "</div>"
      ],
      "text/plain": [
       "group                      A     B\n",
       "tour            price             \n",
       "Санкт-Петербург 10000   5182  5201\n",
       "Турция          60000   5271  1730\n",
       "Таиланд         100000  1832  5227\n",
       "Камчатка        150000  3478  3438\n",
       "Мальдивы        200000  1724  1694"
      ]
     },
     "execution_count": 119,
     "metadata": {},
     "output_type": "execute_result"
    }
   ],
   "source": [
    "merged_df = pd.merge(updated_data, df, how='left', on='price')\n",
    "pivot_table = merged_df.pivot_table(values='user_id', index=['tour', 'price'], columns='group', aggfunc='count')\n",
    "pivot_table.sort_values(by='price')"
   ]
  },
  {
   "attachments": {},
   "cell_type": "markdown",
   "id": "baf0fe08",
   "metadata": {},
   "source": [
    "## **Задание 7.7.**\n",
    "\n",
    "Теперь давайте сравним варианты по покупательской способности туров. Для этого постройте сводную таблицу, которая покажет зависимость количества продаж от группы и цены тура. "
   ]
  },
  {
   "attachments": {},
   "cell_type": "markdown",
   "id": "977423ed-8f8d-475c-b773-621edd95338d",
   "metadata": {},
   "source": [
    "Визуализируйте полученную сводную таблицу с помощью тепловой карты с аннотацией. \n",
    "Чему равно количество проданных туров за 60000 рублей в группах?"
   ]
  },
  {
   "cell_type": "code",
   "execution_count": 107,
   "id": "f634fa8d-585c-42e3-b7d5-78e8d9eaa8c5",
   "metadata": {},
   "outputs": [
    {
     "data": {
      "image/png": "[encoded data removed]",
      "text/plain": [
       "<Figure size 1200x800 with 2 Axes>"
      ]
     },
     "metadata": {},
     "output_type": "display_data"
    }
   ],
   "source": [
    "cmap = sns.cubehelix_palette(start=2.7, rot=0.8, hue=1.3, dark=0.1, light=.4, reverse=True, as_cmap=True)\n",
    "fig, axes = plt.subplots(nrows = 1, ncols = 1, figsize=(12, 8))\n",
    "sns.heatmap(\n",
    "    data=pivot_table,\n",
    "    cmap=cmap,#'flare', \n",
    "    annot=True, \n",
    "    fmt='', \n",
    "    linewidths=.5,\n",
    "    cbar=True\n",
    ")\n",
    "axes.set_title('Тепловая карта количества туров по группам/турам',fontsize=18)\n",
    "axes.set_xlabel(xlabel='Группы', fontsize=14)\n",
    "axes.set_ylabel(ylabel='Туры', fontsize=14)\n",
    "plt.show()\n"
   ]
  },
  {
   "attachments": {},
   "cell_type": "markdown",
   "id": "9caa92ca-e261-4b8f-a16c-2abc322c9ffb",
   "metadata": {},
   "source": [
    "Сделайте выводы по построенной таблице. По каким турам покупательская способность участников группы А выше, чем участников группы B и наоборот?"
   ]
  },
  {
   "attachments": {},
   "cell_type": "markdown",
   "id": "6d13fd45-e3df-468f-9d32-1fc45d38b10c",
   "metadata": {},
   "source": [
    "#### Вывод:\n",
    "Сразу разница по количеству туров в Тайланд и Турцию. В группе А акцент смещен к турам в Турцию, а в группе В - к турма в Тайланд. Туры в Тайланд дороже туров в Турцию, Это 100 тыс. и 60 тыс. соответственно. Так как по остальным турам разница несущественна, то причина почему средней чек в группе В выше, в предпочтении туров в Тайланд турам в Турцию."
   ]
  },
  {
   "attachments": {},
   "cell_type": "markdown",
   "id": "8f021fb4-d0f6-4e43-b518-1a96c07a4531",
   "metadata": {
    "tags": []
   },
   "source": [
    "## **Задание 7.8.**\n",
    "\n",
    "Настало время поговорить о стабилизации кумулятивных метрик во времени. Но прежде, чем перейти к кумулятивным метрикам, нам необходимо построить таблицу с ежедневными данными результатов проведения A/B-тестирования.\n",
    "\n",
    "Сгруппируйте данные по дате и группе тестирования. В каждой группе вычислите количество посещений страницы, количество покупок и сумму покупок. \n",
    "\n",
    "Добавьте в таблицу информацию о ежедневной конверсии (ежедневное количество покупок / ежедневное количество посещений) в группе и ежедневном среднем чеке (ежедневная сумма покупок / ежедневное количество покупок)\n",
    "* Чему равна конверсия 3 января 2021 года? Ответ приведите в процентах и округлите до сотых.\n",
    "\n",
    "* Чему равен средний чек 3 января 2021 года? Ответ приведите в рублях и округлите до целого."
   ]
  },
  {
   "cell_type": "code",
   "execution_count": 108,
   "id": "4503b528-412e-433a-bc03-da7da52fa1a3",
   "metadata": {},
   "outputs": [
    {
     "data": {
      "text/html": [
       "<div>\n",
       "<style scoped>\n",
       "    .dataframe tbody tr th:only-of-type {\n",
       "        vertical-align: middle;\n",
       "    }\n",
       "\n",
       "    .dataframe tbody tr th {\n",
       "        vertical-align: top;\n",
       "    }\n",
       "\n",
       "    .dataframe thead th {\n",
       "        text-align: right;\n",
       "    }\n",
       "</style>\n",
       "<table border=\"1\" class=\"dataframe\">\n",
       "  <thead>\n",
       "    <tr style=\"text-align: right;\">\n",
       "      <th></th>\n",
       "      <th>date</th>\n",
       "      <th>group</th>\n",
       "      <th>coutn_visits</th>\n",
       "      <th>coutn_purchases</th>\n",
       "      <th>sum_price</th>\n",
       "      <th>daily_conversion</th>\n",
       "      <th>daily_mean_check</th>\n",
       "    </tr>\n",
       "  </thead>\n",
       "  <tbody>\n",
       "    <tr>\n",
       "      <th>2</th>\n",
       "      <td>2021-01-03</td>\n",
       "      <td>A</td>\n",
       "      <td>6596</td>\n",
       "      <td>748</td>\n",
       "      <td>62000000</td>\n",
       "      <td>11.34</td>\n",
       "      <td>82888</td>\n",
       "    </tr>\n",
       "    <tr>\n",
       "      <th>3</th>\n",
       "      <td>2021-01-03</td>\n",
       "      <td>B</td>\n",
       "      <td>6619</td>\n",
       "      <td>754</td>\n",
       "      <td>65960000</td>\n",
       "      <td>11.39</td>\n",
       "      <td>87480</td>\n",
       "    </tr>\n",
       "  </tbody>\n",
       "</table>\n",
       "</div>"
      ],
      "text/plain": [
       "         date group  coutn_visits  coutn_purchases  sum_price  \\\n",
       "2  2021-01-03     A          6596              748   62000000   \n",
       "3  2021-01-03     B          6619              754   65960000   \n",
       "\n",
       "   daily_conversion  daily_mean_check  \n",
       "2             11.34             82888  \n",
       "3             11.39             87480  "
      ]
     },
     "execution_count": 108,
     "metadata": {},
     "output_type": "execute_result"
    }
   ],
   "source": [
    "table_cumsum = updated_data.groupby(['date', 'group']).agg(\n",
    "    coutn_visits=('user_id', 'count'),\n",
    "    coutn_purchases=('purchase', 'sum'),\n",
    "    sum_price=('price', 'sum')\n",
    ").reset_index()\n",
    "# daily conversion\tmean_check\n",
    "\n",
    "table_cumsum['daily_conversion'] = round((table_cumsum['coutn_purchases'] / table_cumsum['coutn_visits']) * 100, 2)\n",
    "table_cumsum['daily_mean_check'] = (round(table_cumsum['sum_price'] / table_cumsum['coutn_purchases'])).astype(int)\n",
    "table_cumsum[table_cumsum['date'] == pd.to_datetime('2021-01-03').date()]\n"
   ]
  },
  {
   "attachments": {},
   "cell_type": "markdown",
   "id": "bc8e241b-1ef1-4f67-ab90-77251889b7f2",
   "metadata": {},
   "source": [
    "## **Задание 7.9.** \n",
    "\n",
    "Добавьте в таблицу с ежедневными показателями кумулятивные признаки:\n",
    "* кумулятивное количество посещений страницы\n",
    "* кумулятивное количество покупок\n",
    "* кумулятивную сумму покупок\n",
    "\n",
    "Не забудьте при расчете кумулятивной суммы сгруппировать данные по группам. \n",
    "\n",
    "Вычислите кумулятивную конверсию и кумулятивный средний чек на основе полученных кумулятивных показателей. \n",
    "\n",
    "* Какая **кумулятивная** конверсия была в группе B на 20 января? Ответ приведите в процентах, округлив до сотых.\n",
    "* Какой **кумулятивный** средний чек был в группе А на 12 января 2021 года? Ответ приведите в рублях, округлив до целых."
   ]
  },
  {
   "cell_type": "code",
   "execution_count": 109,
   "id": "afe59f9a-8d39-45c1-a14f-9f62091d81a1",
   "metadata": {},
   "outputs": [
    {
     "data": {
      "text/html": [
       "<div>\n",
       "<style scoped>\n",
       "    .dataframe tbody tr th:only-of-type {\n",
       "        vertical-align: middle;\n",
       "    }\n",
       "\n",
       "    .dataframe tbody tr th {\n",
       "        vertical-align: top;\n",
       "    }\n",
       "\n",
       "    .dataframe thead th {\n",
       "        text-align: right;\n",
       "    }\n",
       "</style>\n",
       "<table border=\"1\" class=\"dataframe\">\n",
       "  <thead>\n",
       "    <tr style=\"text-align: right;\">\n",
       "      <th></th>\n",
       "      <th>group</th>\n",
       "      <th>cum_daily_conversion</th>\n",
       "    </tr>\n",
       "  </thead>\n",
       "  <tbody>\n",
       "    <tr>\n",
       "      <th>36</th>\n",
       "      <td>A</td>\n",
       "      <td>11.98</td>\n",
       "    </tr>\n",
       "    <tr>\n",
       "      <th>37</th>\n",
       "      <td>B</td>\n",
       "      <td>11.90</td>\n",
       "    </tr>\n",
       "  </tbody>\n",
       "</table>\n",
       "</div>"
      ],
      "text/plain": [
       "   group  cum_daily_conversion\n",
       "36     A                 11.98\n",
       "37     B                 11.90"
      ]
     },
     "metadata": {},
     "output_type": "display_data"
    },
    {
     "data": {
      "text/html": [
       "<div>\n",
       "<style scoped>\n",
       "    .dataframe tbody tr th:only-of-type {\n",
       "        vertical-align: middle;\n",
       "    }\n",
       "\n",
       "    .dataframe tbody tr th {\n",
       "        vertical-align: top;\n",
       "    }\n",
       "\n",
       "    .dataframe thead th {\n",
       "        text-align: right;\n",
       "    }\n",
       "</style>\n",
       "<table border=\"1\" class=\"dataframe\">\n",
       "  <thead>\n",
       "    <tr style=\"text-align: right;\">\n",
       "      <th></th>\n",
       "      <th>group</th>\n",
       "      <th>cum_daily_mean_check</th>\n",
       "    </tr>\n",
       "  </thead>\n",
       "  <tbody>\n",
       "    <tr>\n",
       "      <th>20</th>\n",
       "      <td>A</td>\n",
       "      <td>81492</td>\n",
       "    </tr>\n",
       "    <tr>\n",
       "      <th>21</th>\n",
       "      <td>B</td>\n",
       "      <td>88352</td>\n",
       "    </tr>\n",
       "  </tbody>\n",
       "</table>\n",
       "</div>"
      ],
      "text/plain": [
       "   group  cum_daily_mean_check\n",
       "20     A                 81492\n",
       "21     B                 88352"
      ]
     },
     "metadata": {},
     "output_type": "display_data"
    }
   ],
   "source": [
    "# Комулятивные количество посещений/количество покупок/суммы покупок\n",
    "table_cumsum['cum_count_visit'] = table_cumsum.groupby('group')['coutn_visits'].cumsum()\n",
    "table_cumsum['cum_coutn_purchases'] = table_cumsum.groupby('group')['coutn_purchases'].cumsum()\n",
    "table_cumsum['cum_sum_price'] = table_cumsum.groupby('group')['sum_price'].cumsum()\n",
    "\n",
    "# Комулятивные дневная конверсия/средний чек\n",
    "table_cumsum['cum_daily_conversion'] = round((table_cumsum['cum_coutn_purchases'] / table_cumsum['cum_count_visit']) * 100, 2)\n",
    "table_cumsum['cum_daily_mean_check'] = (round(table_cumsum['cum_sum_price'] / table_cumsum['cum_coutn_purchases'])).astype(int)\n",
    "\n",
    "display(table_cumsum.loc[table_cumsum['date'] == pd.to_datetime('2021-01-20').date(), ['group','cum_daily_conversion']])\n",
    "display(table_cumsum.loc[table_cumsum['date'] == pd.to_datetime('2021-01-12').date(), ['group','cum_daily_mean_check']])"
   ]
  },
  {
   "attachments": {},
   "cell_type": "markdown",
   "id": "c252b8ba-371b-4795-8fc3-a62317e9ba39",
   "metadata": {},
   "source": [
    "Постройте кумулятивные графики конверсии и среднего чека в каждой группе по дням. Сделайте выводы. Можно ли назвать A/B-тест завершенным - стабилизировались ли значения метрик во времени? Как соотносятся кумулятивные показатели в каждой группе?"
   ]
  },
  {
   "cell_type": "code",
   "execution_count": 110,
   "id": "27e23d20-7ed6-4a26-973d-6d0320b81adb",
   "metadata": {},
   "outputs": [
    {
     "data": {
      "image/png": "[encoded data removed]",
      "text/plain": [
       "<Figure size 1200x800 with 2 Axes>"
      ]
     },
     "metadata": {},
     "output_type": "display_data"
    }
   ],
   "source": [
    "# Выбираем стиль графика\n",
    "sns.reset_orig()\n",
    "sns.set_style(\"darkgrid\")\n",
    "sns.set_context(\"talk\")\n",
    "\n",
    "# Создаем фигуру с двумя графиками\n",
    "fig, axes = plt.subplots(nrows=2, ncols=1, figsize=(12, 8))\n",
    "# Создаем верхний график с кумулятивной конверсией по дням\n",
    "sns.lineplot(\n",
    "    data=table_cumsum,  # Используем данные из таблицы table_cumsum\n",
    "    x='date',  # Ось x - дата\n",
    "    y='cum_daily_conversion',  # Ось y - кумулятивная конверсия\n",
    "    hue='group',  # Разделяем данные по группам\n",
    "    ax=axes[0]  # Размещаем график на первой (верхней) панели\n",
    ")\n",
    "\n",
    "# Создаем нижний график с кумулятивным средним чеком по дням\n",
    "sns.lineplot(\n",
    "    data=table_cumsum,  # Используем данные из таблицы table_cumsum\n",
    "    x='date',  # Ось x - дата\n",
    "    y='cum_daily_mean_check',  # Ось y - кумулятивный средний чек\n",
    "    hue='group',  # Разделяем данные по группам\n",
    "    ax=axes[1]  # Размещаем график на второй (нижней) панели\n",
    ")\n",
    "\n",
    "# Добавляем общий заголовок для графиков\n",
    "fig.suptitle('Комулятивные графики конверсии и среднего чека', fontsize=24)\n",
    "\n",
    "# Добавляем название верхнего графика и убираем подписи его осей\n",
    "axes[0].set_title('Комулятивный график конверсии, %')\n",
    "axes[0].set_ylabel('')          # Убираем название по оси у\n",
    "axes[0].set_xlabel('')          # Убираем название по оси х\n",
    "axes[0].set_xticklabels([])     # Убираем название делений по оси х\n",
    "\n",
    "# Уменьшаем расстояние между графиками\n",
    "plt.subplots_adjust(hspace=0.1)\n",
    "\n",
    "# Добавляем название нижнего графика и убираем подписи его осей\n",
    "axes[1].set_title('Комулятивный график среднего чека, руб.')\n",
    "axes[1].set_ylabel('')      # Убираем название по оси у\n",
    "axes[1].set_xlabel('')      # Убираем название по оси х\n",
    "\n",
    "# Корректируем шаг деления для лучшей читаемости\n",
    "axes[0].xaxis.set_major_locator(mdates.DayLocator(interval=3))      # Задаем шаг в 3 дня\n",
    "axes[1].yaxis.set_major_locator(ticker.MultipleLocator(2000))       # Задаем шак 2000 единиц\n",
    "axes[1].xaxis.set_major_locator(mdates.DayLocator(interval=3))      # Задаем шаг в 3 дня\n",
    "axes[1].xaxis.set_major_formatter(mdates.DateFormatter('%d-%m-%Y')) # Задаем формат даты\n",
    "\n",
    "# Поворачиваем подписи дат для лучшей читаемости\n",
    "axes[1].tick_params(axis='x', rotation=30)\n",
    "\n",
    "# Отображаем графики\n",
    "plt.show()"
   ]
  },
  {
   "attachments": {},
   "cell_type": "markdown",
   "id": "f645f8e5-ad16-4b3b-8228-fbdeeb286833",
   "metadata": {},
   "source": [
    "#### Вывод:\n",
    "По графикам видно, что в варианте А комулятивная конверсия незначительно но выше, однако в варианте В комулятивный средне-дневной чек значительно выше, чем в варианте А"
   ]
  },
  {
   "attachments": {},
   "cell_type": "markdown",
   "id": "2ecaa382-56e2-47f4-b086-24b4742570a3",
   "metadata": {
    "tags": []
   },
   "source": [
    "## **Задание 7.10.**\n",
    "\n",
    "Настало время переходить к проверке статистической значимости разницы между метриками в группах. Начнем с конверсии."
   ]
  },
  {
   "cell_type": "code",
   "execution_count": 111,
   "id": "ba5cf99f",
   "metadata": {},
   "outputs": [
    {
     "data": {
      "text/html": [
       "<div>\n",
       "<style scoped>\n",
       "    .dataframe tbody tr th:only-of-type {\n",
       "        vertical-align: middle;\n",
       "    }\n",
       "\n",
       "    .dataframe tbody tr th {\n",
       "        vertical-align: top;\n",
       "    }\n",
       "\n",
       "    .dataframe thead th {\n",
       "        text-align: right;\n",
       "    }\n",
       "</style>\n",
       "<table border=\"1\" class=\"dataframe\">\n",
       "  <thead>\n",
       "    <tr style=\"text-align: right;\">\n",
       "      <th></th>\n",
       "      <th>sum</th>\n",
       "      <th>count</th>\n",
       "    </tr>\n",
       "    <tr>\n",
       "      <th>group</th>\n",
       "      <th></th>\n",
       "      <th></th>\n",
       "    </tr>\n",
       "  </thead>\n",
       "  <tbody>\n",
       "    <tr>\n",
       "      <th>A</th>\n",
       "      <td>17487</td>\n",
       "      <td>145307</td>\n",
       "    </tr>\n",
       "    <tr>\n",
       "      <th>B</th>\n",
       "      <td>17290</td>\n",
       "      <td>145381</td>\n",
       "    </tr>\n",
       "  </tbody>\n",
       "</table>\n",
       "</div>"
      ],
      "text/plain": [
       "         sum   count\n",
       "group               \n",
       "A      17487  145307\n",
       "B      17290  145381"
      ]
     },
     "metadata": {},
     "output_type": "display_data"
    }
   ],
   "source": [
    "converted_piv_sample= updated_data.groupby('group')['purchase'].agg(\n",
    "    ['sum', 'count']\n",
    ")\n",
    "display(converted_piv_sample)"
   ]
  },
  {
   "cell_type": "code",
   "execution_count": 112,
   "id": "9dd1f6fd-2fa0-4a2f-8181-dbed4c302bce",
   "metadata": {},
   "outputs": [
    {
     "data": {
      "text/html": [
       "<div>\n",
       "<style scoped>\n",
       "    .dataframe tbody tr th:only-of-type {\n",
       "        vertical-align: middle;\n",
       "    }\n",
       "\n",
       "    .dataframe tbody tr th {\n",
       "        vertical-align: top;\n",
       "    }\n",
       "\n",
       "    .dataframe thead th {\n",
       "        text-align: right;\n",
       "    }\n",
       "</style>\n",
       "<table border=\"1\" class=\"dataframe\">\n",
       "  <thead>\n",
       "    <tr style=\"text-align: right;\">\n",
       "      <th></th>\n",
       "      <th>sum</th>\n",
       "      <th>count</th>\n",
       "    </tr>\n",
       "    <tr>\n",
       "      <th>group</th>\n",
       "      <th></th>\n",
       "      <th></th>\n",
       "    </tr>\n",
       "  </thead>\n",
       "  <tbody>\n",
       "    <tr>\n",
       "      <th>A</th>\n",
       "      <td>17487</td>\n",
       "      <td>145307</td>\n",
       "    </tr>\n",
       "    <tr>\n",
       "      <th>B</th>\n",
       "      <td>17290</td>\n",
       "      <td>145381</td>\n",
       "    </tr>\n",
       "  </tbody>\n",
       "</table>\n",
       "</div>"
      ],
      "text/plain": [
       "         sum   count\n",
       "group               \n",
       "A      17487  145307\n",
       "B      17290  145381"
      ]
     },
     "metadata": {},
     "output_type": "display_data"
    },
    {
     "name": "stdout",
     "output_type": "stream",
     "text": [
      "p-value:  0.12\n",
      "Принимаем нулевую гипотезу. Конверсии в группах А и B равны\n"
     ]
    }
   ],
   "source": [
    "\"\"\"\n",
    "    Для проверки гипотезы равенства пропорций мы можем воспользоваться\n",
    "    уже знакомым нам z-критерием для пропорций. \n",
    "\"\"\";\n",
    "converted_piv_sample= updated_data.groupby('group',)['purchase'].agg(\n",
    "    ['sum', 'count']\n",
    ")\n",
    "display(converted_piv_sample)\n",
    "\n",
    "\n",
    "# нулевая и альтернативная гипотезы\n",
    "H0 = 'Конверсии в группах А и B равны'\n",
    "H1 = 'Конверсия в группе А выше, чем конверсия в группе B'\n",
    "alpha = 0.05 # уровень значимости\n",
    "# вычисляем значение p-value для z-теста для пропорций\n",
    "z_stat, p_value = proportions_ztest(\n",
    "    count=converted_piv_sample['sum'], #число \"успехов\"\n",
    "    nobs=converted_piv_sample['count'], #общее число наблюдений\n",
    "    alternative='larger',\n",
    ")\n",
    "# выводим результат на экран\n",
    "print('p-value: ', round(p_value, 2))\n",
    "# сравниваем полученное p-value с уровнем значимости\n",
    "if (p_value < alpha): \n",
    "    print(\"Отвергаем нулевую гипотезу. {}\".format(H0))\n",
    "    print(\"Альтернативная гипотеза. H1: {}\".format(H1))\n",
    "else:\n",
    "    print(\"Принимаем нулевую гипотезу. {}\".format(H0))"
   ]
  },
  {
   "attachments": {},
   "cell_type": "markdown",
   "id": "75dddb06-389d-4d65-92c7-425efa28e51a",
   "metadata": {},
   "source": [
    "#### Вывод:\n",
    "Значение p_value равное 0.12, означает, что мы не можем отвергнуть нулевую гипотезу о том, что две коверсии равны. Это означает, что различия между двумя выборками не являются статистически значимыми на уровне значимости 0.05."
   ]
  },
  {
   "attachments": {},
   "cell_type": "markdown",
   "id": "32c5a1af-8cb2-4f3c-a126-410b70fb3ff3",
   "metadata": {
    "tags": []
   },
   "source": [
    "## **Задание 7.11.**\n",
    "Убедитесь в своих рассуждениях, построив 95%-ый доверительный интервал для конверсий и разницы между ними. Используйте $z_{крит}$ в своих расчетах\n",
    "\n",
    "Укажите нижнюю и верхнюю границы доверительных интервалов.\n",
    " Границы приведите в процентах и округлите до 2 знака после запятой. Например: нижняя граница 89.24%, верхняя граница 91.25%."
   ]
  },
  {
   "cell_type": "code",
   "execution_count": 113,
   "id": "e9decb7d-ff5e-40a6-8b71-63627c4ef64a",
   "metadata": {},
   "outputs": [
    {
     "data": {
      "image/png": "[encoded data removed]",
      "text/plain": [
       "<Figure size 600x200 with 1 Axes>"
      ]
     },
     "metadata": {},
     "output_type": "display_data"
    },
    {
     "name": "stdout",
     "output_type": "stream",
     "text": [
      "Доверительный интервал для первой выборки: [11.87, 12.20]\n",
      "Доверительный интервал для второй выборки: [11.73, 12.06]\n"
     ]
    }
   ],
   "source": [
    "class confidence_interval(NamedTuple):\n",
    "    lower: float\n",
    "    upper: float\n",
    "\n",
    "def proportions_conf_interval(n: int, p: float, gamma: float=0.95) -> confidence_interval:\n",
    "    \"\"\"\n",
    "        Нахождение доверительного интервала для истинной пропорции\n",
    "        n: размер выборки для группы\n",
    "        p: пропорция(коверсия) в группе\n",
    "    \"\"\"\n",
    "    import numpy as np\n",
    "    \n",
    "    alpha = 1 - gamma # уровень значимости\n",
    "    z_crit = -norm.ppf(alpha/2) # z критическое\n",
    "    eps = z_crit * np.sqrt(p * (1 - p) / n) #погрешность\n",
    "    lower_bound, upper_bound = p + np.array([-1, 1]) * eps # нижняя и верхняя границы\n",
    "    return confidence_interval(lower_bound*100, upper_bound*100)\n",
    "\n",
    "conf_interval_a = proportions_conf_interval(\n",
    "    n=updated_data[updated_data['group'] == 'A']['user_id'].count(), # размер выборки\n",
    "    p=updated_data[updated_data['group'] == 'A']['purchase'].mean() # выборочная пропорция\n",
    ")\n",
    "conf_interval_b = proportions_conf_interval(\n",
    "    n=updated_data[updated_data['group'] == 'B']['user_id'].count(), # размер выборки\n",
    "    p=updated_data[updated_data['group'] == 'B']['purchase'].mean() # выборочная пропорция\n",
    ")\n",
    "\n",
    "fig, ax = plt.subplots(nrows=1, ncols=1, figsize=(6, 2))\n",
    "sns.lineplot(y=1, x=conf_interval_b, linewidth=6, label='Конверсия В-группы', ax=ax, color='tomato')\n",
    "sns.lineplot(y=-1, x=conf_interval_a, linewidth=6, label='Конверсия А-группы', ax=ax, color='royalblue')\n",
    "plt.ylim(-5,15)\n",
    "plt.yticks(visible=False)\n",
    "plt.grid(axis='y', visible=False)\n",
    "plt.legend()\n",
    "plt.show()\n",
    "\n",
    "# вывод результатов\n",
    "print(f\"Доверительный интервал для первой выборки: [{conf_interval_a.lower:.2f}, {conf_interval_a.upper:.2f}]\")\n",
    "print(f\"Доверительный интервал для второй выборки: [{conf_interval_b.lower:.2f}, {conf_interval_b.upper:.2f}]\")"
   ]
  },
  {
   "cell_type": "code",
   "execution_count": 114,
   "id": "f4952205",
   "metadata": {},
   "outputs": [
    {
     "name": "stdout",
     "output_type": "stream",
     "text": [
      "Доверительный интервал для разности конверсий: [-0.38, 0.09]\n"
     ]
    }
   ],
   "source": [
    "class proportion_and_sampling(NamedTuple):\n",
    "    A: int | float\n",
    "    B: int | float\n",
    "\n",
    "def diff_proportions_conf_interval(n: proportion_and_sampling, \n",
    "                                   p: proportion_and_sampling, \n",
    "                                   gamma: float=0.975\n",
    "                                ) -> confidence_interval:\n",
    "    import numpy as np\n",
    "    \n",
    "    # разность выборочных долей\n",
    "    p_diff = p.B - p.A\n",
    "    \n",
    "    # стандартная ошибка разности выборочных долей\n",
    "    se_diff = np.sqrt(p.A*(1-p.A)/n.A + p.B*(1-p.B)/n.B)\n",
    "    \n",
    "    # критическое значение стандартного нормального распределения для уровня доверия 95%\n",
    "    z_crit = norm.ppf(gamma)\n",
    "    \n",
    "    # расчет доверительного интервала\n",
    "    lower, upper = p_diff + np.array([-1, 1]) * z_crit * se_diff\n",
    "    \n",
    "    return confidence_interval(lower*100, upper*100)\n",
    "    \n",
    "\n",
    "sampling = proportion_and_sampling(*(updated_data.groupby('group')['user_id'].count()))\n",
    "proportion = proportion_and_sampling(*(updated_data.groupby('group')['purchase'].mean()))\n",
    "\n",
    "result = diff_proportions_conf_interval(sampling, proportion)\n",
    "\n",
    "# вывод результатов\n",
    "print(f\"Доверительный интервал для разности конверсий: [{result.lower:.2f}, {result.upper:.2f}]\")"
   ]
  },
  {
   "attachments": {},
   "cell_type": "markdown",
   "id": "9332372d-66b2-45e9-a74c-f5d8b1d44afb",
   "metadata": {},
   "source": [
    "##### Вывод\n",
    "Интервалы двух конверсий пересекается, это означает, что мы не можем с уверенностью сказать, что одна конверсия лучше или хуже, чем другая. В этом случае мы не можем сделать вывод о том, что одна конверсия значимо отличается от другой.\n",
    "\n",
    "Так как доверительный интервал для разности конверсий пересекает ноль, это означает, что мы не можем с уверенностью сказать, что разница между конверсиями значима. В этом случае мы не можем сделать вывод о том, что одна конверсия лучше или хуже, чем другая."
   ]
  },
  {
   "attachments": {},
   "cell_type": "markdown",
   "id": "73c54883-b919-4889-bbf2-e1bdeb0b7055",
   "metadata": {},
   "source": [
    "## **Задание 7.12.**    Проверка нормальности ежедневного среднего чека"
   ]
  },
  {
   "cell_type": "code",
   "execution_count": 115,
   "id": "898041ae-de7e-4b74-975e-111d494fbb82",
   "metadata": {},
   "outputs": [
    {
     "name": "stdout",
     "output_type": "stream",
     "text": [
      "p-value группы А 0.25\n",
      "p-value группы B 0.09\n",
      "Принимаем нулевую гипотезу. Распределения в обеих группах нормальные\n"
     ]
    }
   ],
   "source": [
    "# нулевая и альтернативная гипотезы\n",
    "H0 = 'Распределения в обеих группах нормальные'\n",
    "H1 = 'Распределение в одной или обеих группах отлично от нормального'\n",
    "alpha = 0.05 # уровень значимости\n",
    "# вычисляем результат теста Шапиро-Уилка для выборок\n",
    "shapiro_result_a = shapiro(table_cumsum[table_cumsum['group']=='A']['daily_mean_check'])\n",
    "shapiro_result_b = shapiro(table_cumsum[table_cumsum['group']=='B']['daily_mean_check'])\n",
    "print(f'p-value группы А {round(shapiro_result_a.pvalue, 2):.02f}')\n",
    "print(f'p-value группы B {round(shapiro_result_b.pvalue, 2):.02f}')\n",
    "# сравниваем полученное p-value с уровнем значимости\n",
    "if shapiro_result_a.pvalue < alpha or shapiro_result_b.pvalue < alpha:\n",
    "    print(f\"Принимаем альтернативную гипотезу. H1: {H1}\")\n",
    "else:\n",
    "    print(f\"Принимаем нулевую гипотезу. {H0}\")    "
   ]
  },
  {
   "attachments": {},
   "cell_type": "markdown",
   "id": "cbddecf9-4d15-4ff1-84e9-46c4d98fc1e0",
   "metadata": {
    "tags": []
   },
   "source": [
    "## **Задание 7.13.** Проведение T-теста"
   ]
  },
  {
   "cell_type": "code",
   "execution_count": 116,
   "id": "05d43f23-2c2d-4795-bb96-1ffbfe81c391",
   "metadata": {},
   "outputs": [
    {
     "name": "stdout",
     "output_type": "stream",
     "text": [
      "p-value: 0.00\n",
      "Отвергаем нулевую гипотезу и принимаем альтернативную гипотезу.\n",
      "Ежедневный средний чек в группе А меньше, чем в группе B\n"
     ]
    }
   ],
   "source": [
    "# нулевая и альтернативная гипотезы\n",
    "H0 = 'Равенство ежедневных средних чеков в группах'\n",
    "H1 = 'Ежедневный средний чек в группе А меньше, чем в группе B'\n",
    "alpha = 0.05 # уровень значимости\n",
    "# вычисляем результат Т-теста для выборок\n",
    "results = ttest_ind(\n",
    "    a=table_cumsum[table_cumsum['group']=='A']['daily_mean_check'],\n",
    "    b=table_cumsum[table_cumsum['group']=='B']['daily_mean_check'], \n",
    "    alternative='less'\n",
    ")\n",
    "\n",
    "# выводим результат на экран\n",
    "print(f'p-value: {results.pvalue:.2f}')\n",
    "# сравниваем полученное p-value с уровнем значимости\n",
    "if (results.pvalue < alpha): \n",
    "    print(\"Отвергаем нулевую гипотезу и принимаем альтернативную гипотезу.\")\n",
    "    print(H1)\n",
    "else:\n",
    "    print(f\"Принимаем нулевую гипотезу. {H0}\")"
   ]
  },
  {
   "attachments": {},
   "cell_type": "markdown",
   "id": "aac24b02",
   "metadata": {},
   "source": [
    "##### Вывод: \n",
    "Так как статистический тест `ttest_ind` показал pvalue меньше уровня значимости 0.05, то можно сделать вывод о том, что существует статистически значимая разница между средними чеками в группах A и B. Это означает, что вероятность получить такую разницу случайно мала и, скорее всего, различия между группами действительно существуют."
   ]
  },
  {
   "attachments": {},
   "cell_type": "markdown",
   "id": "5e46c9a6-a943-48b4-ad72-935337469613",
   "metadata": {
    "tags": []
   },
   "source": [
    "## **Задание 7.14.**\n",
    "\n",
    "Постройте 95%-ый доверительный интервал для среднего чека в каждой группе. Так как выборка средних чеков небольшая, используйте  $t_{крит}$ в своих расчетах.\n",
    "\n",
    "Укажите нижнюю границу доверительного интервала для истинного среднего чека каждой из групп. Ответ приведите в процентах и округлите до целого."
   ]
  },
  {
   "cell_type": "code",
   "execution_count": 117,
   "id": "480430db-ffae-4aad-8e22-f5c70d4800b8",
   "metadata": {
    "scrolled": true
   },
   "outputs": [
    {
     "data": {
      "image/png": "[encoded data removed]",
      "text/plain": [
       "<Figure size 600x200 with 1 Axes>"
      ]
     },
     "metadata": {},
     "output_type": "display_data"
    },
    {
     "name": "stdout",
     "output_type": "stream",
     "text": [
      "Доверительный интервал дневного среднего чека для группы А: [79630, 82308]\n",
      "Доверительный интервал дневного среднего чека для группы В: [87626, 89526]\n"
     ]
    }
   ],
   "source": [
    "\n",
    "def conf_interval(df: pd.Series, gamma: float=0.95) -> confidence_interval:\n",
    "    n = df.shape[0] # // df.count() # размер выборки\n",
    "    k = n - 1                       # число степеней свободы\n",
    "    x_mean = df.mean()              # выборочное среднее\n",
    "    x_std = np.std(df, ddof=1)      # выборочное стандартное отклонение\n",
    "    alpha = 1 - gamma               # уровень значимости\n",
    "\n",
    "    # Критическое значение t-распределения\n",
    "    t_crit = -t.ppf(alpha/2, k)\n",
    "    \n",
    "    # Погрешность\n",
    "    eps = t_crit * x_std / np.sqrt(n)\n",
    "    # Доверительный интервал\n",
    "    lower_bound, upper_bound = x_mean + np.array([-1, 1]) * eps\n",
    "    \n",
    "    return confidence_interval(lower_bound, upper_bound)\n",
    "\n",
    "\n",
    "conf_interval_a = conf_interval(table_cumsum[table_cumsum['group']=='A']['daily_mean_check'])\n",
    "conf_interval_b = conf_interval(table_cumsum[table_cumsum['group']=='B']['daily_mean_check'])\n",
    "\n",
    "\n",
    "fig, ax = plt.subplots(nrows=1, ncols=1, figsize=(6, 2))\n",
    "sns.lineplot(y=1, x=conf_interval_b, linewidth=6, label='Средний чек В-группы', ax=ax, color='tomato')\n",
    "sns.lineplot(y=-1, x=conf_interval_a, linewidth=6, label='Средний чек А-группы', ax=ax, color='royalblue')\n",
    "plt.ylim(-5,15)\n",
    "plt.yticks(visible=False)\n",
    "plt.grid(axis='y', visible=False)\n",
    "plt.legend()\n",
    "plt.show()\n",
    "\n",
    "# вывод результатов\n",
    "print(f\"Доверительный интервал дневного среднего чека для группы А: \\\n",
    "[{conf_interval_a.lower:.0f}, {conf_interval_a.upper:.0f}]\")\n",
    "print(f\"Доверительный интервал дневного среднего чека для группы В: \\\n",
    "[{conf_interval_b.lower:.0f}, {conf_interval_b.upper:.0f}]\")"
   ]
  },
  {
   "attachments": {},
   "cell_type": "markdown",
   "id": "846be6bd",
   "metadata": {},
   "source": [
    "Пересечения между доверительными интервалами не наблюдается, что может указывать на статистически значимые различия между средними чеками в группах А и В.\n",
    "Значения доверительного интервала в группе В выше, чем в группе А"
   ]
  },
  {
   "attachments": {},
   "cell_type": "markdown",
   "id": "f3af9517",
   "metadata": {},
   "source": [
    "## Общий вывод\n",
    "\n",
    "Из проведенных тестов стало ясно, что разница в конверсиях является статичтически на важной, на уровне значимости 0.05. Также, мы не можем сделать вывод о том, что одна конверсия лучше или хуже, чем другая, так как интервалы доверительных интервалов конверсий пересекаются.\n",
    "\n",
    "С другой стороны, статистический тест показал, что существует статистически значимая разница между средними чеками в группах A и B. Это означает, что вероятность получить такую разницу случайно мала и, скорее всего, различия между группами действительно существуют. Это может быть связано с тем, что в группе А был смещен акцент на туры в Турцию, а в группе В - на туры в Тайланд, которые являются более дорогими.\n",
    "\n",
    "Таким образом, мы можем заключить, что вариант В оказался более эффективным по среднему чеку/"
   ]
  }
 ],
 "metadata": {
  "kernelspec": {
   "display_name": "Python 3 (ipykernel)",
   "language": "python",
   "name": "python3"
  },
  "language_info": {
   "codemirror_mode": {
    "name": "ipython",
    "version": 3
   },
   "file_extension": ".py",
   "mimetype": "text/x-python",
   "name": "python",
   "nbconvert_exporter": "python",
   "pygments_lexer": "ipython3",
   "version": "3.11.3"
  }
 },
 "nbformat": 4,
 "nbformat_minor": 5
}
